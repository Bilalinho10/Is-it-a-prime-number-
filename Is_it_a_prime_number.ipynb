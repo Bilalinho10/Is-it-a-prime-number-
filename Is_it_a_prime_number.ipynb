{
  "nbformat": 4,
  "nbformat_minor": 0,
  "metadata": {
    "colab": {
      "name": "Is it a prime number.ipynb",
      "provenance": [],
      "collapsed_sections": []
    },
    "kernelspec": {
      "name": "python3",
      "display_name": "Python 3"
    },
    "language_info": {
      "name": "python"
    }
  },
  "cells": [
    {
      "cell_type": "code",
      "execution_count": null,
      "metadata": {
        "colab": {
          "base_uri": "https://localhost:8080/"
        },
        "id": "NrtiikSjwSdP",
        "outputId": "793cf50a-02d3-402a-9b73-d6e570889e6a"
      },
      "outputs": [
        {
          "output_type": "stream",
          "name": "stdout",
          "text": [
            "Please write an integer number : 7\n",
            "7 is a prime number\n"
          ]
        }
      ],
      "source": [
        "num = int(input(\"Please write an integer number : \"))\n",
        "dividings = []\n",
        "if (num == 0) or (num == 1) :\n",
        "    print(num, \"is not a prime number\")\n",
        "else :    \n",
        "    for i in range(2, num) :\n",
        "        if num % i == 0 :\n",
        "            dividings.append(i)\n",
        "    if dividings == [] :\n",
        "        print(num, \"is a prime number\")\n",
        "    else :    \n",
        "        print(num, \"is not a prime number\")"
      ]
    },
    {
      "cell_type": "code",
      "source": [
        ""
      ],
      "metadata": {
        "id": "OqdMrVM6yPqo"
      },
      "execution_count": null,
      "outputs": []
    }
  ]
}